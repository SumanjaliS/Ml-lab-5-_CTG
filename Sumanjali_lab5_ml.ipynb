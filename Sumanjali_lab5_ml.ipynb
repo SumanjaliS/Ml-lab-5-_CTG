{
 "cells": [
  {
   "cell_type": "code",
   "execution_count": 11,
   "id": "51da4061-0126-4d76-ad03-c8d166b299c3",
   "metadata": {},
   "outputs": [
    {
     "name": "stdout",
     "output_type": "stream",
     "text": [
      "Training RMSE: 0.5760991283233913\n"
     ]
    }
   ],
   "source": [
    "#1\n",
    "import pandas as pd\n",
    "from sklearn.model_selection import train_test_split\n",
    "from sklearn.linear_model import LinearRegression\n",
    "from sklearn.metrics import mean_squared_error\n",
    "import numpy as np\n",
    "\n",
    "# Load CTG dataset (Assuming it's already a DataFrame `df`)\n",
    "# df = pd.read_csv('CTG.csv')  # Uncomment if you need to load the dataset\n",
    "\n",
    "# Selecting features and target from the CTG dataset\n",
    "X = df[['LB', 'AC', 'FM']]  # Example features, modify as needed\n",
    "y = df['NSP']  # Assuming 'NSP' is the target\n",
    "\n",
    "# Handling missing values (if any) by dropping rows with NaN\n",
    "X = X.dropna()\n",
    "y = y.loc[X.index]  # Align target with features\n",
    "\n",
    "# Splitting the data\n",
    "X_train, X_test, y_train, y_test = train_test_split(X, y, test_size=0.2, random_state=42)\n",
    "\n",
    "# Training the linear regression model\n",
    "reg = LinearRegression().fit(X_train, y_train)\n",
    "\n",
    "# Predicting on the training data\n",
    "y_train_pred = reg.predict(X_train)\n",
    "\n",
    "# Calculating Mean Squared Error (MSE)\n",
    "mse_train = mean_squared_error(y_train, y_train_pred)\n",
    "rmse_train = np.sqrt(mse_train)\n",
    "\n",
    "print(f\"Training RMSE: {rmse_train}\")\n"
   ]
  },
  {
   "cell_type": "code",
   "execution_count": 12,
   "id": "b1c5f1b5-e052-4b78-b5a5-84d963eb9759",
   "metadata": {},
   "outputs": [
    {
     "name": "stdout",
     "output_type": "stream",
     "text": [
      "Test RMSE: 0.5479020883415006\n"
     ]
    }
   ],
   "source": [
    "#2\n",
    "import pandas as pd\n",
    "from sklearn.model_selection import train_test_split\n",
    "from sklearn.linear_model import LinearRegression\n",
    "from sklearn.metrics import mean_squared_error\n",
    "import numpy as np\n",
    "\n",
    "# Load CTG dataset\n",
    "# df = pd.read_csv('CTG.csv')  # Uncomment if you need to load the dataset\n",
    "\n",
    "# Selecting features and target\n",
    "X = df[['LB', 'AC', 'FM']]  # Example features\n",
    "y = df['NSP']\n",
    "\n",
    "# Handling missing values\n",
    "X = X.dropna()\n",
    "y = y.loc[X.index]\n",
    "\n",
    "# Splitting the data\n",
    "X_train, X_test, y_train, y_test = train_test_split(X, y, test_size=0.2, random_state=42)\n",
    "\n",
    "# Training the model\n",
    "reg = LinearRegression().fit(X_train, y_train)\n",
    "\n",
    "# Predicting on the test data\n",
    "y_test_pred = reg.predict(X_test)\n",
    "\n",
    "# Calculating Mean Squared Error (MSE) for test data\n",
    "mse_test = mean_squared_error(y_test, y_test_pred)\n",
    "rmse_test = np.sqrt(mse_test)\n",
    "\n",
    "print(f\"Test RMSE: {rmse_test}\")\n"
   ]
  },
  {
   "cell_type": "code",
   "execution_count": 13,
   "id": "9e305b13-ab2c-4dc4-a5f8-cf7214485525",
   "metadata": {},
   "outputs": [
    {
     "name": "stdout",
     "output_type": "stream",
     "text": [
      "Test Accuracy: 0.8192488262910798\n"
     ]
    }
   ],
   "source": [
    "#3\n",
    "import pandas as pd\n",
    "from sklearn.model_selection import train_test_split\n",
    "from sklearn.linear_model import LogisticRegression\n",
    "from sklearn.metrics import accuracy_score\n",
    "\n",
    "# Load CTG dataset\n",
    "# df = pd.read_csv('CTG.csv')  # Uncomment if you need to load the dataset\n",
    "\n",
    "# Selecting features and target\n",
    "X = df[['LB', 'AC', 'FM']]\n",
    "y = df['NSP']\n",
    "\n",
    "# Handling missing values\n",
    "X = X.dropna()\n",
    "y = y.loc[X.index]\n",
    "\n",
    "# Splitting the data\n",
    "X_train, X_test, y_train, y_test = train_test_split(X, y, test_size=0.2, random_state=42)\n",
    "\n",
    "# Training the logistic regression model\n",
    "clf = LogisticRegression(max_iter=200).fit(X_train, y_train)\n",
    "\n",
    "# Predicting on the test data\n",
    "y_test_pred = clf.predict(X_test)\n",
    "\n",
    "# Calculating accuracy\n",
    "accuracy = accuracy_score(y_test, y_test_pred)\n",
    "\n",
    "print(f\"Test Accuracy: {accuracy}\")\n"
   ]
  },
  {
   "cell_type": "code",
   "execution_count": 14,
   "id": "3c392ea6-5ba4-4ace-84d8-f0516793bb78",
   "metadata": {},
   "outputs": [
    {
     "name": "stdout",
     "output_type": "stream",
     "text": [
      "Test Accuracy: 0.8169014084507042\n"
     ]
    }
   ],
   "source": [
    "#4\n",
    "import pandas as pd\n",
    "from sklearn.model_selection import train_test_split\n",
    "from sklearn.tree import DecisionTreeClassifier\n",
    "from sklearn.metrics import accuracy_score\n",
    "\n",
    "# Load CTG dataset\n",
    "# df = pd.read_csv('CTG.csv')  # Uncomment if you need to load the dataset\n",
    "\n",
    "# Selecting features and target\n",
    "X = df[['LB', 'AC', 'FM']]\n",
    "y = df['NSP']\n",
    "\n",
    "# Handling missing values\n",
    "X = X.dropna()\n",
    "y = y.loc[X.index]\n",
    "\n",
    "# Splitting the data\n",
    "X_train, X_test, y_train, y_test = train_test_split(X, y, test_size=0.2, random_state=42)\n",
    "\n",
    "# Training the Decision Tree model\n",
    "clf = DecisionTreeClassifier().fit(X_train, y_train)\n",
    "\n",
    "# Predicting on the test data\n",
    "y_test_pred = clf.predict(X_test)\n",
    "\n",
    "# Calculating accuracy\n",
    "accuracy = accuracy_score(y_test, y_test_pred)\n",
    "\n",
    "print(f\"Test Accuracy: {accuracy}\")\n"
   ]
  },
  {
   "cell_type": "code",
   "execution_count": 15,
   "id": "fceb6cb9-5f91-426d-ba65-35171531ca6c",
   "metadata": {},
   "outputs": [
    {
     "name": "stdout",
     "output_type": "stream",
     "text": [
      "Test Accuracy: 0.795774647887324\n"
     ]
    }
   ],
   "source": [
    "#5\n",
    "import pandas as pd\n",
    "from sklearn.model_selection import train_test_split\n",
    "from sklearn.neighbors import KNeighborsClassifier\n",
    "from sklearn.metrics import accuracy_score\n",
    "\n",
    "# Load CTG dataset\n",
    "# df = pd.read_csv('CTG.csv')  # Uncomment if you need to load the dataset\n",
    "\n",
    "# Selecting features and target\n",
    "X = df[['LB', 'AC', 'FM']]\n",
    "y = df['NSP']\n",
    "\n",
    "# Handling missing values\n",
    "X = X.dropna()\n",
    "y = y.loc[X.index]\n",
    "\n",
    "# Splitting the data\n",
    "X_train, X_test, y_train, y_test = train_test_split(X, y, test_size=0.2, random_state=42)\n",
    "\n",
    "# Training the kNN model\n",
    "knn = KNeighborsClassifier(n_neighbors=5).fit(X_train, y_train)\n",
    "\n",
    "# Predicting on the test data\n",
    "y_test_pred = knn.predict(X_test)\n",
    "\n",
    "# Calculating accuracy\n",
    "accuracy = accuracy_score(y_test, y_test_pred)\n",
    "\n",
    "print(f\"Test Accuracy: {accuracy}\")\n"
   ]
  },
  {
   "cell_type": "code",
   "execution_count": 16,
   "id": "ca5c60c0-46e0-4da9-b8e0-89778c7de1d5",
   "metadata": {},
   "outputs": [
    {
     "name": "stdout",
     "output_type": "stream",
     "text": [
      "Test Accuracy: 0.8215962441314554\n"
     ]
    }
   ],
   "source": [
    "#6\n",
    "import pandas as pd\n",
    "from sklearn.model_selection import train_test_split\n",
    "from sklearn.ensemble import RandomForestClassifier\n",
    "from sklearn.metrics import accuracy_score\n",
    "\n",
    "# Load CTG dataset\n",
    "# df = pd.read_csv('CTG.csv')  # Uncomment if you need to load the dataset\n",
    "\n",
    "# Selecting features and target\n",
    "X = df[['LB', 'AC', 'FM']]\n",
    "y = df['NSP']\n",
    "\n",
    "# Handling missing values\n",
    "X = X.dropna()\n",
    "y = y.loc[X.index]\n",
    "\n",
    "# Splitting the data\n",
    "X_train, X_test, y_train, y_test = train_test_split(X, y, test_size=0.2, random_state=42)\n",
    "\n",
    "# Training the Random Forest model\n",
    "clf = RandomForestClassifier().fit(X_train, y_train)\n",
    "\n",
    "# Predicting on the test data\n",
    "y_test_pred = clf.predict(X_test)\n",
    "\n",
    "# Calculating accuracy\n",
    "accuracy = accuracy_score(y_test, y_test_pred)\n",
    "\n",
    "print(f\"Test Accuracy: {accuracy}\")\n",
    "\n"
   ]
  },
  {
   "cell_type": "code",
   "execution_count": 17,
   "id": "9ebe2950-a96c-4e91-9213-0ab946e607ee",
   "metadata": {},
   "outputs": [
    {
     "name": "stdout",
     "output_type": "stream",
     "text": [
      "Test Accuracy: 0.7816901408450704\n"
     ]
    }
   ],
   "source": [
    "#7\n",
    "import pandas as pd\n",
    "from sklearn.model_selection import train_test_split\n",
    "from sklearn.svm import SVC\n",
    "from sklearn.metrics import accuracy_score\n",
    "\n",
    "# Load CTG dataset\n",
    "# df = pd.read_csv('CTG.csv')  # Uncomment if you need to load the dataset\n",
    "\n",
    "# Selecting features and target\n",
    "X = df[['LB', 'AC', 'FM']]\n",
    "y = df['NSP']\n",
    "\n",
    "# Handling missing values\n",
    "X = X.dropna()\n",
    "y = y.loc[X.index]\n",
    "\n",
    "# Splitting the data\n",
    "X_train, X_test, y_train, y_test = train_test_split(X, y, test_size=0.2, random_state=42)\n",
    "\n",
    "# Training the SVM model\n",
    "clf = SVC().fit(X_train, y_train)\n",
    "\n",
    "# Predicting on the test data\n",
    "y_test_pred = clf.predict(X_test)\n",
    "\n",
    "# Calculating accuracy\n",
    "accuracy = accuracy_score(y_test, y_test_pred)\n",
    "\n",
    "print(f\"Test Accuracy: {accuracy}\")\n"
   ]
  },
  {
   "cell_type": "code",
   "execution_count": null,
   "id": "68106b82-efda-4509-b53a-cd607bca532d",
   "metadata": {},
   "outputs": [],
   "source": []
  }
 ],
 "metadata": {
  "kernelspec": {
   "display_name": "Python 3 (ipykernel)",
   "language": "python",
   "name": "python3"
  },
  "language_info": {
   "codemirror_mode": {
    "name": "ipython",
    "version": 3
   },
   "file_extension": ".py",
   "mimetype": "text/x-python",
   "name": "python",
   "nbconvert_exporter": "python",
   "pygments_lexer": "ipython3",
   "version": "3.11.7"
  }
 },
 "nbformat": 4,
 "nbformat_minor": 5
}
